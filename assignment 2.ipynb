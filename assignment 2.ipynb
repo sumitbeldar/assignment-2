{
 "cells": [
  {
   "cell_type": "code",
   "execution_count": 14,
   "id": "f08d1f8e",
   "metadata": {},
   "outputs": [
    {
     "data": {
      "text/plain": [
       "[1, 3, 5, 7, 9, 11, 13, 15, 17, 19, 21, 23, 25]"
      ]
     },
     "execution_count": 14,
     "metadata": {},
     "output_type": "execute_result"
    }
   ],
   "source": [
    "#Q1\n",
    "def odd_numbers():\n",
    "    list1 = []\n",
    "    for i in range(1, 26):\n",
    "        if i % 2 != 0:\n",
    "            list1.append(i)\n",
    "    return list1\n",
    "odd_numbers()"
   ]
  },
  {
   "cell_type": "code",
   "execution_count": 16,
   "id": "235dd9e7",
   "metadata": {},
   "outputs": [
    {
     "data": {
      "text/plain": [
       "'args=*args allows a function to accept an arbitrary number of positional arguments\\nkwargs=**kwargs allows a function to accept an arbitrary number of keyword arguments'"
      ]
     },
     "execution_count": 16,
     "metadata": {},
     "output_type": "execute_result"
    }
   ],
   "source": [
    "#Q2\n",
    "\"\"\"args=*args allows a function to accept an arbitrary number of positional arguments\n",
    "kwargs=**kwargs allows a function to accept an arbitrary number of keyword arguments\"\"\""
   ]
  },
  {
   "cell_type": "code",
   "execution_count": 25,
   "id": "b20b45aa",
   "metadata": {},
   "outputs": [
    {
     "name": "stdout",
     "output_type": "stream",
     "text": [
      "2\n",
      "4\n",
      "6\n",
      "8\n",
      "10\n"
     ]
    }
   ],
   "source": [
    "#Q3\n",
    "#The __iter__() method is used to initialize the iterator object and should return the iterator object itself.\n",
    "\n",
    "#The __next__() method is used to iterate over the elements and should return the next element in the sequence. When there are no more elements to return, \n",
    "#it should raise the StopIteration exception.\n",
    "\n",
    "my_list = [2, 4, 6, 8, 10, 12, 14, 16, 18, 20]\n",
    "\n",
    "my_iter = iter(my_list)\n",
    "for i in range(5):\n",
    "    print(next(my_iter))\n",
    "\n",
    "        \n",
    "    \n",
    "    "
   ]
  },
  {
   "cell_type": "code",
   "execution_count": 26,
   "id": "04507ecc",
   "metadata": {},
   "outputs": [],
   "source": [
    "#Q4\n",
    "#A generator function in Python is a special type of function that generates an iterator object when called. \n",
    "#It is defined using the def keyword and contains one or more yield statements. When the generator function is called, it returns an iterator object but does not start executing the function immediately. \n",
    "#Instead, the code inside the function is executed only when the iterator's next() method is called.\n",
    "\n",
    "#The yield keyword is used to specify the value of the next element in the sequence. When the yield statement is executed, the function's state is saved, and the value is returned to the caller. \n",
    "#The next time the next() method is called on the iterator object, the function resumes execution from where it left off and continues until it reaches the next yield\n",
    "\n",
    "#The yield keyword is used to specify the value of the next element in the sequence.\n",
    "#When the yield statement is executed, the function's state is saved, and the value is returned to the caller.\n",
    "\n",
    "#the count_up_to() function is a generator function"
   ]
  },
  {
   "cell_type": "code",
   "execution_count": 29,
   "id": "7a3313e2",
   "metadata": {},
   "outputs": [
    {
     "name": "stdout",
     "output_type": "stream",
     "text": [
      "2\n",
      "3\n",
      "5\n",
      "7\n",
      "11\n",
      "13\n",
      "17\n",
      "19\n",
      "23\n",
      "29\n",
      "31\n",
      "37\n",
      "41\n",
      "43\n",
      "47\n",
      "53\n",
      "59\n",
      "61\n",
      "67\n",
      "71\n"
     ]
    }
   ],
   "source": [
    "#Q5\n",
    "def primes():\n",
    "    yield 2\n",
    "    primes_list = [2]\n",
    "    n = 3\n",
    "    while n < 1000:\n",
    "        is_prime = True\n",
    "        for prime in primes_list:\n",
    "            if prime * prime > n:\n",
    "                break\n",
    "            if n % prime == 0:\n",
    "                is_prime = False\n",
    "                break\n",
    "        if is_prime:\n",
    "            primes_list.append(n)\n",
    "            yield n\n",
    "        n += 2\n",
    "        \n",
    "prime_iter = primes()\n",
    "for i in range(20):\n",
    "    print(next(prime_iter))"
   ]
  },
  {
   "cell_type": "code",
   "execution_count": 30,
   "id": "045e9a44",
   "metadata": {},
   "outputs": [
    {
     "name": "stdout",
     "output_type": "stream",
     "text": [
      "10\n",
      "0\n",
      "1\n",
      "1\n",
      "2\n",
      "3\n",
      "5\n",
      "8\n",
      "13\n",
      "21\n",
      "34\n"
     ]
    }
   ],
   "source": [
    "#Q6\n",
    "n=int(input())\n",
    "a,b=0,1\n",
    "counter=0\n",
    "while counter <n:\n",
    "    print(a)\n",
    "    c=a+b\n",
    "    a=b\n",
    "    b=c\n",
    "    counter=counter+1"
   ]
  },
  {
   "cell_type": "code",
   "execution_count": 31,
   "id": "610b0cdb",
   "metadata": {},
   "outputs": [
    {
     "name": "stdout",
     "output_type": "stream",
     "text": [
      "['p', 'w', 's', 'k', 'i', 'l', 'l', 's']\n"
     ]
    }
   ],
   "source": [
    "#Q7\n",
    "string = 'pwskills'\n",
    "result = [char for char in string if char in 'pwskills']\n",
    "print(result)"
   ]
  },
  {
   "cell_type": "code",
   "execution_count": 32,
   "id": "3e870e4d",
   "metadata": {},
   "outputs": [
    {
     "name": "stdout",
     "output_type": "stream",
     "text": [
      "Enter a number: 13\n",
      "13 is not a palindrome number\n"
     ]
    }
   ],
   "source": [
    "#Q8\n",
    "num = int(input(\"Enter a number: \"))\n",
    "temp = num\n",
    "reverse = 0\n",
    "\n",
    "while temp != 0:\n",
    "    remainder = temp % 10\n",
    "    reverse = reverse * 10 + remainder\n",
    "    temp = temp // 10\n",
    "\n",
    "if num == reverse:\n",
    "    print(f\"{num} is a palindrome number\")\n",
    "else:\n",
    "    print(f\"{num} is not a palindrome number\")"
   ]
  },
  {
   "cell_type": "code",
   "execution_count": 33,
   "id": "15454aa4",
   "metadata": {},
   "outputs": [
    {
     "name": "stdout",
     "output_type": "stream",
     "text": [
      "[1, 3, 5, 7, 9, 11, 13, 15, 17, 19, 21, 23, 25, 27, 29, 31, 33, 35, 37, 39, 41, 43, 45, 47, 49, 51, 53, 55, 57, 59, 61, 63, 65, 67, 69, 71, 73, 75, 77, 79, 81, 83, 85, 87, 89, 91, 93, 95, 97, 99]\n"
     ]
    }
   ],
   "source": [
    "#Q9\n",
    "odd_nums = [num for num in range(1, 101) if num % 2 != 0]\n",
    "print(odd_nums)"
   ]
  },
  {
   "cell_type": "code",
   "execution_count": null,
   "id": "ae6a3f28",
   "metadata": {},
   "outputs": [],
   "source": []
  }
 ],
 "metadata": {
  "kernelspec": {
   "display_name": "Python 3 (ipykernel)",
   "language": "python",
   "name": "python3"
  },
  "language_info": {
   "codemirror_mode": {
    "name": "ipython",
    "version": 3
   },
   "file_extension": ".py",
   "mimetype": "text/x-python",
   "name": "python",
   "nbconvert_exporter": "python",
   "pygments_lexer": "ipython3",
   "version": "3.9.13"
  }
 },
 "nbformat": 4,
 "nbformat_minor": 5
}
